{
 "cells": [
  {
   "cell_type": "markdown",
   "source": [
    "## PACK MODELING WITH EMBEDDED GPs\n",
    "This is a notebook to explain the example of the new pack modeling infrastructure generated as a wrapper to PyBaMM.\n",
    "\n",
    "First: Cells must be created with IDs, in this initialization process the operating mode and model type can also be set. The IDs will eventually link the cells to the circuit structure but this is not functional yet."
   ],
   "metadata": {
    "collapsed": false
   },
   "id": "410b0cc883b24c35"
  },
  {
   "cell_type": "code",
   "execution_count": 14,
   "id": "initial_id",
   "metadata": {
    "collapsed": true,
    "ExecuteTime": {
     "end_time": "2025-06-13T13:44:20.589417Z",
     "start_time": "2025-06-13T13:44:20.505259Z"
    }
   },
   "outputs": [],
   "source": [
    "import timeit\n",
    "import FoKL.FoKLRoutines\n",
    "from Battery import battery\n",
    "import matplotlib\n",
    "from Battery.new_eval import *\n",
    "\n",
    "CellA = battery.Cell(\"A\", operating_mode=\"current\")\n",
    "CellB = battery.Cell(\"B\", operating_mode=\"current\")\n",
    "CellC = battery.Cell(\"C\", operating_mode=\"current\")\n",
    "CellD = battery.Cell(\"D\", operating_mode=\"current\")\n",
    "\n",
    "circuit = [[\"A\",\"C\"], [\"B\",\"D\"]] # 2s2p model"
   ]
  },
  {
   "cell_type": "markdown",
   "source": [
    "Next FoKL model parameters from a previously built model on the diffusivity are loaded in."
   ],
   "metadata": {
    "collapsed": false
   },
   "id": "8c5b23f3894e58d7"
  },
  {
   "cell_type": "code",
   "execution_count": 15,
   "outputs": [],
   "source": [
    "DN_model = FoKL.FoKLRoutines.load(\"DN_model.fokl\")\n",
    "betas = DN_model.betas\n",
    "mtx = DN_model.mtx\n",
    "\n",
    "T_max_liion = 80 + 273.15\n",
    "T_min_liion = -30 + 273.15"
   ],
   "metadata": {
    "collapsed": false,
    "ExecuteTime": {
     "end_time": "2025-06-13T13:44:20.611925Z",
     "start_time": "2025-06-13T13:44:20.590866Z"
    }
   },
   "id": "a058d9fd7f7af6d1"
  },
  {
   "cell_type": "markdown",
   "source": [
    "Other parameters of the Battery are then edited and added"
   ],
   "metadata": {
    "collapsed": false
   },
   "id": "84ea831eef6d496b"
  },
  {
   "cell_type": "code",
   "execution_count": 16,
   "outputs": [],
   "source": [
    "CellA.edit_params([\"Current function [A]\"], [\"[input]\"])\n",
    "CellB.edit_params([\"Current function [A]\"], [\"[input]\"])\n",
    "CellC.edit_params([\"Current function [A]\"], [\"[input]\"])\n",
    "CellD.edit_params([\"Current function [A]\"], [\"[input]\"])\n",
    "CellA.edit_params([\"Ambient temperature [K]\"], [328.15])\n",
    "CellB.edit_params([\"Ambient temperature [K]\"], [348.15])\n",
    "CellC.edit_params([\"Ambient temperature [K]\"], [288.15])\n",
    "CellD.edit_params([\"Ambient temperature [K]\"], [308.15])\n",
    "\n",
    "CellA.inputs = {\"Current function [A]\": 0.5}\n",
    "CellB.inputs = {\"Current function [A]\": 0.5}\n",
    "CellC.inputs = {\"Current function [A]\": 0.5}\n",
    "CellD.inputs = {\"Current function [A]\": 0.5}"
   ],
   "metadata": {
    "collapsed": false,
    "ExecuteTime": {
     "end_time": "2025-06-13T13:44:20.615578Z",
     "start_time": "2025-06-13T13:44:20.613308Z"
    }
   },
   "id": "cb3a51d2b4c551f"
  },
  {
   "cell_type": "markdown",
   "source": [
    "The Battery Object is then created with the cells now set and solved"
   ],
   "metadata": {
    "collapsed": false
   },
   "id": "a549ffbbd945176f"
  },
  {
   "cell_type": "code",
   "execution_count": 17,
   "outputs": [
    {
     "name": "stdout",
     "output_type": "stream",
     "text": [
      "\n",
      " Circuit:\n",
      "A----C\n",
      "|    |\n",
      "B----D\n",
      "0.0\n",
      "0.0\n",
      "5.0\n",
      "5.0\n",
      "10.0\n",
      "10.0\n",
      "15.0\n",
      "15.0\n",
      "20.0\n",
      "20.0\n",
      "25.0\n",
      "25.0\n",
      "30.0\n",
      "30.0\n",
      "35.0\n",
      "35.0\n",
      "40.0\n",
      "40.0\n",
      "45.0\n",
      "45.0\n",
      "50.0\n",
      "50.0\n",
      "55.0\n",
      "55.0\n",
      "60.0\n",
      "60.0\n",
      "65.0\n",
      "65.0\n",
      "70.0\n",
      "70.0\n",
      "75.0\n",
      "75.0\n",
      "80.0\n",
      "80.0\n",
      "85.0\n",
      "85.0\n",
      "90.0\n",
      "90.0\n",
      "95.0\n",
      "95.0\n",
      "100.0\n",
      "100.0\n",
      "105.0\n",
      "105.0\n",
      "110.0\n",
      "110.0\n",
      "115.0\n",
      "115.0\n",
      "120.0\n",
      "120.0\n",
      "125.0\n",
      "125.0\n",
      "130.0\n",
      "130.0\n",
      "135.0\n",
      "135.0\n",
      "140.0\n",
      "140.0\n",
      "145.0\n",
      "145.0\n",
      "150.0\n",
      "150.0\n",
      "155.0\n",
      "155.0\n",
      "160.0\n",
      "160.0\n",
      "165.0\n",
      "165.0\n",
      "170.0\n",
      "170.0\n",
      "175.0\n",
      "175.0\n",
      "180.0\n",
      "180.0\n",
      "185.0\n",
      "185.0\n",
      "190.0\n",
      "190.0\n",
      "195.0\n",
      "195.0\n",
      "200.0\n",
      "200.0\n",
      "205.0\n",
      "205.0\n",
      "210.0\n",
      "210.0\n",
      "215.0\n",
      "215.0\n",
      "220.0\n",
      "220.0\n",
      "225.0\n",
      "225.0\n",
      "230.0\n",
      "230.0\n",
      "235.0\n",
      "235.0\n",
      "240.0\n",
      "240.0\n",
      "245.0\n",
      "245.0\n",
      "250.0\n",
      "250.0\n",
      "255.0\n",
      "255.0\n",
      "260.0\n",
      "260.0\n",
      "265.0\n",
      "265.0\n",
      "270.0\n",
      "270.0\n",
      "275.0\n",
      "275.0\n",
      "280.0\n",
      "280.0\n",
      "285.0\n",
      "285.0\n",
      "290.0\n",
      "290.0\n",
      "295.0\n",
      "295.0\n",
      "300.0\n",
      "300.0\n",
      "305.0\n",
      "305.0\n",
      "310.0\n",
      "310.0\n",
      "315.0\n",
      "315.0\n",
      "320.0\n",
      "320.0\n",
      "325.0\n",
      "325.0\n",
      "330.0\n",
      "330.0\n",
      "335.0\n",
      "335.0\n",
      "340.0\n",
      "340.0\n",
      "345.0\n",
      "345.0\n",
      "350.0\n",
      "350.0\n",
      "355.0\n",
      "355.0\n",
      "39.09176095901057\n"
     ]
    },
    {
     "name": "stderr",
     "output_type": "stream",
     "text": [
      "\n",
      "KeyboardInterrupt\n",
      "\n"
     ]
    }
   ],
   "source": [
    "cells = [CellA, CellB, CellC, CellD]\n",
    "\n",
    "bat = battery.Battery(cells, [], circuit = circuit)\n",
    "\n",
    "bat.power_func = lambda t: 9-t/120\n",
    "\n",
    "t1 = timeit.default_timer()\n",
    "sol = bat.simulate([0.0, 360.0], 5)\n",
    "t2 = timeit.default_timer() - t1\n",
    "print(t2)\n",
    "\n",
    "bat.plot()"
   ],
   "metadata": {
    "collapsed": false,
    "ExecuteTime": {
     "end_time": "2025-06-13T13:45:38.441936Z",
     "start_time": "2025-06-13T13:44:20.615949Z"
    }
   },
   "id": "a9556778ca452a3a"
  }
 ],
 "metadata": {
  "kernelspec": {
   "display_name": "Python 3",
   "language": "python",
   "name": "python3"
  },
  "language_info": {
   "codemirror_mode": {
    "name": "ipython",
    "version": 2
   },
   "file_extension": ".py",
   "mimetype": "text/x-python",
   "name": "python",
   "nbconvert_exporter": "python",
   "pygments_lexer": "ipython2",
   "version": "2.7.6"
  }
 },
 "nbformat": 4,
 "nbformat_minor": 5
}
